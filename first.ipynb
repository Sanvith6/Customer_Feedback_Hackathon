{
 "cells": [
  {
   "cell_type": "code",
   "execution_count": 9,
   "id": "b0a093bb",
   "metadata": {},
   "outputs": [
    {
     "name": "stdout",
     "output_type": "stream",
     "text": [
      "c:\\Users\\sanvi\\AppData\\Local\\Programs\\Python\\Python313\\python.exe\n"
     ]
    }
   ],
   "source": [
    "import sys\n",
    "print(sys.executable)\n"
   ]
  },
  {
   "cell_type": "code",
   "execution_count": 10,
   "id": "6e73cbb8",
   "metadata": {},
   "outputs": [
    {
     "name": "stdout",
     "output_type": "stream",
     "text": [
      "3.1.5\n"
     ]
    }
   ],
   "source": [
    "import openpyxl\n",
    "print(openpyxl.__version__)\n"
   ]
  },
  {
   "cell_type": "code",
   "execution_count": 14,
   "id": "a9299896",
   "metadata": {},
   "outputs": [
    {
     "name": "stdout",
     "output_type": "stream",
     "text": [
      "Available Sheets: ['data', 'data description']\n",
      "\n",
      "First 5 rows of data:\n",
      "   customerID  gender  SeniorCitizen Dependents  tenure PhoneService  \\\n",
      "0  7590-VHVEG  Female              0         No       1           No   \n",
      "1  5575-GNVDE     NaN              0         No      34          Yes   \n",
      "2  3668-QPYBK    Male              0         No       2          Yes   \n",
      "3  7795-CFOCW    Male              0         No      45           No   \n",
      "4  9237-HQITU  Female              0         No       2          Yes   \n",
      "\n",
      "      MultipleLines InternetService OnlineSecurity OnlineBackup  ...  \\\n",
      "0  No phone service             DSL             No          Yes  ...   \n",
      "1                No             DSL            Yes           No  ...   \n",
      "2                No             DSL            Yes          Yes  ...   \n",
      "3  No phone service             DSL            Yes           No  ...   \n",
      "4                No     Fiber optic             No           No  ...   \n",
      "\n",
      "  TechSupport StreamingTV StreamingMovies        Contract PaperlessBilling  \\\n",
      "0          No          No              No  Month-to-month              Yes   \n",
      "1          No          No              No        One year               No   \n",
      "2          No          No              No  Month-to-month              Yes   \n",
      "3         Yes          No              No        One year               No   \n",
      "4          No          No              No  Month-to-month              Yes   \n",
      "\n",
      "               PaymentMethod numAdminTickets  numTechTickets  \\\n",
      "0           Electronic check             0.0               0   \n",
      "1               Mailed check             0.0               0   \n",
      "2               Mailed check             0.0               0   \n",
      "3  Bank transfer (automatic)             0.0               3   \n",
      "4           Electronic check             0.0               0   \n",
      "\n",
      "            Location                                   CustomerFeedback  \n",
      "0   North - New York  I have been using the DSL internet service fro...  \n",
      "1  West - California  I have been a customer with this company for o...  \n",
      "2    East - Illinois  I recently signed up for DSL internet service ...  \n",
      "3    West - Illinois  I have been a loyal customer with this company...  \n",
      "4    East - Illinois                                                  0  \n",
      "\n",
      "[5 rows x 21 columns]\n",
      "\n",
      "Column Names:\n",
      "['customerID', 'gender', 'SeniorCitizen', 'Dependents', 'tenure', 'PhoneService', 'MultipleLines', 'InternetService', 'OnlineSecurity', 'OnlineBackup', 'DeviceProtection', 'TechSupport', 'StreamingTV', 'StreamingMovies', 'Contract', 'PaperlessBilling', 'PaymentMethod', 'numAdminTickets', 'numTechTickets', 'Location', 'CustomerFeedback']\n",
      "\n",
      "Missing Values per Column:\n",
      "customerID            0\n",
      "gender              396\n",
      "SeniorCitizen         0\n",
      "Dependents            0\n",
      "tenure                0\n",
      "PhoneService          0\n",
      "MultipleLines         0\n",
      "InternetService       0\n",
      "OnlineSecurity        0\n",
      "OnlineBackup          0\n",
      "DeviceProtection      0\n",
      "TechSupport           0\n",
      "StreamingTV         427\n",
      "StreamingMovies     506\n",
      "Contract              0\n",
      "PaperlessBilling      0\n",
      "PaymentMethod         0\n",
      "numAdminTickets     592\n",
      "numTechTickets        0\n",
      "Location              0\n",
      "CustomerFeedback     71\n",
      "dtype: int64\n",
      "\n",
      "Basic Statistics:\n",
      "       SeniorCitizen       tenure  numAdminTickets  numTechTickets\n",
      "count    7043.000000  7043.000000      6451.000000     7043.000000\n",
      "mean        0.162147    32.371149         0.512169        0.419566\n",
      "std         0.368612    24.559481         1.270158        1.250117\n",
      "min         0.000000     0.000000         0.000000        0.000000\n",
      "25%         0.000000     9.000000         0.000000        0.000000\n",
      "50%         0.000000    29.000000         0.000000        0.000000\n",
      "75%         0.000000    55.000000         0.000000        0.000000\n",
      "max         1.000000    72.000000         5.000000        9.000000\n",
      "\n",
      "❌ Column 'TARGET_COLUMN' not found. Please choose one from ['customerID', 'gender', 'SeniorCitizen', 'Dependents', 'tenure', 'PhoneService', 'MultipleLines', 'InternetService', 'OnlineSecurity', 'OnlineBackup', 'DeviceProtection', 'TechSupport', 'StreamingTV', 'StreamingMovies', 'Contract', 'PaperlessBilling', 'PaymentMethod', 'numAdminTickets', 'numTechTickets', 'Location', 'CustomerFeedback']\n"
     ]
    }
   ],
   "source": [
    "import pandas as pd\n",
    "\n",
    "# Step 1: Load dataset\n",
    "file_path = \"Use case 1 - customer experience.xlsx\"\n",
    "df = pd.ExcelFile(file_path)\n",
    "\n",
    "# Show all sheet names\n",
    "print(\"Available Sheets:\", df.sheet_names)\n",
    "\n",
    "# Load the first sheet (or replace with the correct one)\n",
    "data = df.parse(df.sheet_names[0])\n",
    "\n",
    "# Step 2: Explore dataset\n",
    "print(\"\\nFirst 5 rows of data:\")\n",
    "print(data.head())\n",
    "\n",
    "print(\"\\nColumn Names:\")\n",
    "print(list(data.columns))\n",
    "\n",
    "# Check missing values\n",
    "print(\"\\nMissing Values per Column:\")\n",
    "print(data.isnull().sum())\n",
    "\n",
    "# Step 3: Basic statistics\n",
    "print(\"\\nBasic Statistics:\")\n",
    "print(data.describe())\n",
    "\n",
    "# 🔑 Select target column\n",
    "# Replace 'TARGET_COLUMN' with the actual name after you see column names above\n",
    "target_column = \"TARGET_COLUMN\"   # change this\n",
    "if target_column in data.columns:\n",
    "    X = data.drop(columns=[target_column])\n",
    "    y = data[target_column]\n",
    "    print(\"\\nFeatures and Target prepared successfully!\")\n",
    "else:\n",
    "    print(f\"\\n❌ Column '{target_column}' not found. Please choose one from {list(data.columns)}\")\n"
   ]
  }
 ],
 "metadata": {
  "kernelspec": {
   "display_name": "Python 3",
   "language": "python",
   "name": "python3"
  },
  "language_info": {
   "codemirror_mode": {
    "name": "ipython",
    "version": 3
   },
   "file_extension": ".py",
   "mimetype": "text/x-python",
   "name": "python",
   "nbconvert_exporter": "python",
   "pygments_lexer": "ipython3",
   "version": "3.13.0"
  }
 },
 "nbformat": 4,
 "nbformat_minor": 5
}
